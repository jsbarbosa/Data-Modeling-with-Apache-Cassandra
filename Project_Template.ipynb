{
 "cells": [
  {
   "cell_type": "markdown",
   "metadata": {
    "editable": true
   },
   "source": [
    "# Part I. ETL Pipeline for Pre-Processing the Files"
   ]
  },
  {
   "cell_type": "markdown",
   "metadata": {
    "editable": true
   },
   "source": [
    "## Dependencies"
   ]
  },
  {
   "cell_type": "code",
   "execution_count": 1,
   "metadata": {
    "editable": true
   },
   "outputs": [],
   "source": [
    "import re\n",
    "import json\n",
    "import numpy as np\n",
    "import pandas as pd\n",
    "from glob import glob\n",
    "\n",
    "from cassandra.cluster import Cluster"
   ]
  },
  {
   "cell_type": "markdown",
   "metadata": {
    "editable": true
   },
   "source": [
    "## Creating list of filepaths to process original event csv data files"
   ]
  },
  {
   "cell_type": "code",
   "execution_count": 2,
   "metadata": {
    "editable": true
   },
   "outputs": [],
   "source": [
    "file_path_list = sorted(glob('event_data/*.csv'))"
   ]
  },
  {
   "cell_type": "markdown",
   "metadata": {
    "editable": true
   },
   "source": [
    "Processing the files to create the data file csv that will be used for Apache Casssandra tables"
   ]
  },
  {
   "cell_type": "code",
   "execution_count": 3,
   "metadata": {},
   "outputs": [],
   "source": [
    "data = pd.concat(\n",
    "    [\n",
    "        pd.read_csv(file)\n",
    "        for file in file_path_list\n",
    "    ]\n",
    ").drop(\n",
    "    columns=['auth']\n",
    ").dropna(\n",
    "    subset=['artist']\n",
    ").astype(\n",
    "    {\n",
    "        'userId': int\n",
    "    }\n",
    ")\n",
    "\n",
    "data.to_csv(\n",
    "    'event_datafile_new.csv',\n",
    "    index=False\n",
    ")"
   ]
  },
  {
   "cell_type": "markdown",
   "metadata": {},
   "source": [
    "Shape of stored data"
   ]
  },
  {
   "cell_type": "code",
   "execution_count": 4,
   "metadata": {
    "editable": true
   },
   "outputs": [
    {
     "data": {
      "text/plain": [
       "(6820, 16)"
      ]
     },
     "execution_count": 4,
     "metadata": {},
     "output_type": "execute_result"
    }
   ],
   "source": [
    "data.shape"
   ]
  },
  {
   "cell_type": "markdown",
   "metadata": {
    "editable": true
   },
   "source": [
    "# Part II. Apache Cassandra code\n",
    "\n",
    "The `event_datafile_new.csv` contains the following columns:\n",
    "- `artist`: artist name\n",
    "- `firstName`: first Name of user\n",
    "- `gender`: gender of user\n",
    "- `itemInSession`: \n",
    "- `lastName`: last name of user\n",
    "- `length`: length of the song\n",
    "- `level`: paid or free song\n",
    "- `location`: location of the user\n",
    "- `sessionId`: session identifier\n",
    "- `song`: song title\n",
    "- `userId`: user identifier\n",
    "\n",
    "Below is what the denormalized data looks:"
   ]
  },
  {
   "cell_type": "code",
   "execution_count": 5,
   "metadata": {},
   "outputs": [
    {
     "data": {
      "text/html": [
       "<div>\n",
       "<style scoped>\n",
       "    .dataframe tbody tr th:only-of-type {\n",
       "        vertical-align: middle;\n",
       "    }\n",
       "\n",
       "    .dataframe tbody tr th {\n",
       "        vertical-align: top;\n",
       "    }\n",
       "\n",
       "    .dataframe thead th {\n",
       "        text-align: right;\n",
       "    }\n",
       "</style>\n",
       "<table border=\"1\" class=\"dataframe\">\n",
       "  <thead>\n",
       "    <tr style=\"text-align: right;\">\n",
       "      <th></th>\n",
       "      <th>artist</th>\n",
       "      <th>firstName</th>\n",
       "      <th>gender</th>\n",
       "      <th>itemInSession</th>\n",
       "      <th>lastName</th>\n",
       "      <th>length</th>\n",
       "      <th>level</th>\n",
       "      <th>location</th>\n",
       "      <th>method</th>\n",
       "      <th>page</th>\n",
       "      <th>registration</th>\n",
       "      <th>sessionId</th>\n",
       "      <th>song</th>\n",
       "      <th>status</th>\n",
       "      <th>ts</th>\n",
       "      <th>userId</th>\n",
       "    </tr>\n",
       "  </thead>\n",
       "  <tbody>\n",
       "    <tr>\n",
       "      <th>2</th>\n",
       "      <td>Des'ree</td>\n",
       "      <td>Kaylee</td>\n",
       "      <td>F</td>\n",
       "      <td>1</td>\n",
       "      <td>Summers</td>\n",
       "      <td>246.30812</td>\n",
       "      <td>free</td>\n",
       "      <td>Phoenix-Mesa-Scottsdale, AZ</td>\n",
       "      <td>PUT</td>\n",
       "      <td>NextSong</td>\n",
       "      <td>1.540340e+12</td>\n",
       "      <td>139</td>\n",
       "      <td>You Gotta Be</td>\n",
       "      <td>200</td>\n",
       "      <td>1.541110e+12</td>\n",
       "      <td>8</td>\n",
       "    </tr>\n",
       "    <tr>\n",
       "      <th>4</th>\n",
       "      <td>Mr Oizo</td>\n",
       "      <td>Kaylee</td>\n",
       "      <td>F</td>\n",
       "      <td>3</td>\n",
       "      <td>Summers</td>\n",
       "      <td>144.03873</td>\n",
       "      <td>free</td>\n",
       "      <td>Phoenix-Mesa-Scottsdale, AZ</td>\n",
       "      <td>PUT</td>\n",
       "      <td>NextSong</td>\n",
       "      <td>1.540340e+12</td>\n",
       "      <td>139</td>\n",
       "      <td>Flat 55</td>\n",
       "      <td>200</td>\n",
       "      <td>1.541110e+12</td>\n",
       "      <td>8</td>\n",
       "    </tr>\n",
       "    <tr>\n",
       "      <th>5</th>\n",
       "      <td>Tamba Trio</td>\n",
       "      <td>Kaylee</td>\n",
       "      <td>F</td>\n",
       "      <td>4</td>\n",
       "      <td>Summers</td>\n",
       "      <td>177.18812</td>\n",
       "      <td>free</td>\n",
       "      <td>Phoenix-Mesa-Scottsdale, AZ</td>\n",
       "      <td>PUT</td>\n",
       "      <td>NextSong</td>\n",
       "      <td>1.540340e+12</td>\n",
       "      <td>139</td>\n",
       "      <td>Quem Quiser Encontrar O Amor</td>\n",
       "      <td>200</td>\n",
       "      <td>1.541110e+12</td>\n",
       "      <td>8</td>\n",
       "    </tr>\n",
       "    <tr>\n",
       "      <th>6</th>\n",
       "      <td>The Mars Volta</td>\n",
       "      <td>Kaylee</td>\n",
       "      <td>F</td>\n",
       "      <td>5</td>\n",
       "      <td>Summers</td>\n",
       "      <td>380.42077</td>\n",
       "      <td>free</td>\n",
       "      <td>Phoenix-Mesa-Scottsdale, AZ</td>\n",
       "      <td>PUT</td>\n",
       "      <td>NextSong</td>\n",
       "      <td>1.540340e+12</td>\n",
       "      <td>139</td>\n",
       "      <td>Eriatarka</td>\n",
       "      <td>200</td>\n",
       "      <td>1.541110e+12</td>\n",
       "      <td>8</td>\n",
       "    </tr>\n",
       "    <tr>\n",
       "      <th>7</th>\n",
       "      <td>Infected Mushroom</td>\n",
       "      <td>Kaylee</td>\n",
       "      <td>F</td>\n",
       "      <td>6</td>\n",
       "      <td>Summers</td>\n",
       "      <td>440.26730</td>\n",
       "      <td>free</td>\n",
       "      <td>Phoenix-Mesa-Scottsdale, AZ</td>\n",
       "      <td>PUT</td>\n",
       "      <td>NextSong</td>\n",
       "      <td>1.540340e+12</td>\n",
       "      <td>139</td>\n",
       "      <td>Becoming Insane</td>\n",
       "      <td>200</td>\n",
       "      <td>1.541110e+12</td>\n",
       "      <td>8</td>\n",
       "    </tr>\n",
       "  </tbody>\n",
       "</table>\n",
       "</div>"
      ],
      "text/plain": [
       "              artist firstName gender  itemInSession lastName     length  \\\n",
       "2            Des'ree    Kaylee      F              1  Summers  246.30812   \n",
       "4            Mr Oizo    Kaylee      F              3  Summers  144.03873   \n",
       "5         Tamba Trio    Kaylee      F              4  Summers  177.18812   \n",
       "6     The Mars Volta    Kaylee      F              5  Summers  380.42077   \n",
       "7  Infected Mushroom    Kaylee      F              6  Summers  440.26730   \n",
       "\n",
       "  level                     location method      page  registration  \\\n",
       "2  free  Phoenix-Mesa-Scottsdale, AZ    PUT  NextSong  1.540340e+12   \n",
       "4  free  Phoenix-Mesa-Scottsdale, AZ    PUT  NextSong  1.540340e+12   \n",
       "5  free  Phoenix-Mesa-Scottsdale, AZ    PUT  NextSong  1.540340e+12   \n",
       "6  free  Phoenix-Mesa-Scottsdale, AZ    PUT  NextSong  1.540340e+12   \n",
       "7  free  Phoenix-Mesa-Scottsdale, AZ    PUT  NextSong  1.540340e+12   \n",
       "\n",
       "   sessionId                          song  status            ts  userId  \n",
       "2        139                  You Gotta Be     200  1.541110e+12       8  \n",
       "4        139                       Flat 55     200  1.541110e+12       8  \n",
       "5        139  Quem Quiser Encontrar O Amor     200  1.541110e+12       8  \n",
       "6        139                     Eriatarka     200  1.541110e+12       8  \n",
       "7        139               Becoming Insane     200  1.541110e+12       8  "
      ]
     },
     "execution_count": 5,
     "metadata": {},
     "output_type": "execute_result"
    }
   ],
   "source": [
    "data.head()"
   ]
  },
  {
   "cell_type": "markdown",
   "metadata": {
    "editable": true
   },
   "source": [
    "## Apache Cassandra"
   ]
  },
  {
   "cell_type": "markdown",
   "metadata": {
    "editable": true
   },
   "source": [
    "#### Creating a Cluster"
   ]
  },
  {
   "cell_type": "code",
   "execution_count": 6,
   "metadata": {
    "editable": true
   },
   "outputs": [],
   "source": [
    "cluster = Cluster()\n",
    "session = cluster.connect()"
   ]
  },
  {
   "cell_type": "markdown",
   "metadata": {
    "editable": true
   },
   "source": [
    "#### Create Keyspace"
   ]
  },
  {
   "cell_type": "code",
   "execution_count": 7,
   "metadata": {
    "editable": true
   },
   "outputs": [
    {
     "data": {
      "text/plain": [
       "<cassandra.cluster.ResultSet at 0x7f8d7c61bf40>"
      ]
     },
     "execution_count": 7,
     "metadata": {},
     "output_type": "execute_result"
    }
   ],
   "source": [
    "session.execute(\n",
    "    \"\"\"\n",
    "    CREATE KEYSPACE IF NOT EXISTS udacity \n",
    "    WITH REPLICATION = {\n",
    "        'class': 'SimpleStrategy',\n",
    "        'replication_factor': 1\n",
    "    }\n",
    "    \"\"\"\n",
    ")"
   ]
  },
  {
   "cell_type": "markdown",
   "metadata": {
    "editable": true
   },
   "source": [
    "#### Set Keyspace"
   ]
  },
  {
   "cell_type": "code",
   "execution_count": 8,
   "metadata": {
    "editable": true
   },
   "outputs": [],
   "source": [
    "session.set_keyspace('udacity')"
   ]
  },
  {
   "cell_type": "markdown",
   "metadata": {
    "editable": true
   },
   "source": [
    "## Queries\n",
    "\n",
    "The following data wants to be queried"
   ]
  },
  {
   "cell_type": "markdown",
   "metadata": {},
   "source": [
    "### 1. Artist, song title and song's length in the music app history that was heard during an specific session and item in session\n",
    "\n",
    "For table `music_heard_in_session`, the columns `sessionId` and `itemInSession` were used as partition keys because the queries will filter by these columns."
   ]
  },
  {
   "cell_type": "code",
   "execution_count": 9,
   "metadata": {
    "editable": true
   },
   "outputs": [
    {
     "data": {
      "text/plain": [
       "<cassandra.cluster.ResultSet at 0x7f8dac405520>"
      ]
     },
     "execution_count": 9,
     "metadata": {},
     "output_type": "execute_result"
    }
   ],
   "source": [
    "session.execute(\n",
    "    \"\"\"\n",
    "    CREATE TABLE IF NOT EXISTS music_heard_in_session\n",
    "    (\n",
    "        sessionId int,\n",
    "        itemInSession int,\n",
    "        song text,\n",
    "        artist text,\n",
    "        length decimal,\n",
    "        PRIMARY KEY (sessionId, itemInSession)\n",
    "    )\n",
    "    \"\"\"\n",
    ")"
   ]
  },
  {
   "cell_type": "code",
   "execution_count": 10,
   "metadata": {
    "editable": true
   },
   "outputs": [],
   "source": [
    "for _, line in data.iterrows():\n",
    "    session.execute(\n",
    "        \"\"\"\n",
    "        INSERT INTO music_heard_in_session(sessionId, itemInSession, song, artist, length)\n",
    "        VALUES (%s, %s, %s, %s, %s)\n",
    "        \"\"\",\n",
    "        [\n",
    "            line['sessionId'],\n",
    "            line['itemInSession'],\n",
    "            line['song'],\n",
    "            line['artist'],\n",
    "            line['length']\n",
    "        ]\n",
    "    )"
   ]
  },
  {
   "cell_type": "markdown",
   "metadata": {
    "editable": true
   },
   "source": [
    "Verify that the data have been inserted into each table"
   ]
  },
  {
   "cell_type": "code",
   "execution_count": 11,
   "metadata": {
    "editable": true,
    "scrolled": true
   },
   "outputs": [
    {
     "name": "stdout",
     "output_type": "stream",
     "text": [
      "Row(artist='Faithless', song='Music Matters (Mark Knight Dub)', length=Decimal('495.3073'))\n"
     ]
    }
   ],
   "source": [
    "results = session.execute(\n",
    "    \"\"\"\n",
    "    SELECT \n",
    "        artist, song, length\n",
    "    FROM \n",
    "        music_heard_in_session \n",
    "    WHERE \n",
    "        sessionId = 338 AND itemInSession = 4\n",
    "    \"\"\"\n",
    ")\n",
    "\n",
    "for result in results:\n",
    "    print(result)"
   ]
  },
  {
   "cell_type": "markdown",
   "metadata": {
    "editable": true
   },
   "source": [
    "### 2. Name of artist, song (sorted by `itemInSession`) and user (first and last name) for `userId = 10` and `sessionId = 182`\n",
    "\n",
    "For table `user_music_session`, the columns `userId` and `sessionId` where used as a composite partition key because the queries will filter these columns. `itemInSession` is used as a clustering column sort data"
   ]
  },
  {
   "cell_type": "code",
   "execution_count": 12,
   "metadata": {
    "editable": true
   },
   "outputs": [
    {
     "data": {
      "text/plain": [
       "<cassandra.cluster.ResultSet at 0x7f8d7b52b490>"
      ]
     },
     "execution_count": 12,
     "metadata": {},
     "output_type": "execute_result"
    }
   ],
   "source": [
    "session.execute(\n",
    "    \"\"\"\n",
    "    CREATE TABLE IF NOT EXISTS user_music_session\n",
    "    (\n",
    "        userId int,\n",
    "        sessionId int,\n",
    "        itemInSession int,\n",
    "        artist text,\n",
    "        song text,\n",
    "        firstName text,\n",
    "        lastName text,\n",
    "        PRIMARY KEY ((userId, sessionId), itemInSession)\n",
    "    )\n",
    "    \"\"\"\n",
    ")"
   ]
  },
  {
   "cell_type": "code",
   "execution_count": 13,
   "metadata": {
    "editable": true
   },
   "outputs": [],
   "source": [
    "for _, line in data.iterrows():\n",
    "    session.execute(\n",
    "        \"\"\"\n",
    "        INSERT INTO user_music_session(userId, sessionId, itemInSession, artist, song, firstName, lastName)\n",
    "        VALUES (%s, %s, %s, %s, %s, %s, %s)\n",
    "        \"\"\",\n",
    "        [\n",
    "            line['userId'],\n",
    "            line['sessionId'],\n",
    "            line['itemInSession'],\n",
    "            line['artist'],\n",
    "            line['song'],\n",
    "            line['firstName'],\n",
    "            line['lastName']\n",
    "        ]\n",
    "    )"
   ]
  },
  {
   "cell_type": "markdown",
   "metadata": {
    "editable": true
   },
   "source": [
    "Verify that the data have been inserted into each table"
   ]
  },
  {
   "cell_type": "code",
   "execution_count": 14,
   "metadata": {
    "editable": true
   },
   "outputs": [
    {
     "name": "stdout",
     "output_type": "stream",
     "text": [
      "Row(artist='Down To The Bone', song=\"Keep On Keepin' On\", firstname='Sylvie', lastname='Cruz')\n",
      "Row(artist='Three Drives', song='Greece 2000', firstname='Sylvie', lastname='Cruz')\n",
      "Row(artist='Sebastien Tellier', song='Kilometer', firstname='Sylvie', lastname='Cruz')\n",
      "Row(artist='Lonnie Gordon', song='Catch You Baby (Steve Pitron & Max Sanna Radio Edit)', firstname='Sylvie', lastname='Cruz')\n"
     ]
    }
   ],
   "source": [
    "results = session.execute(\n",
    "    \"\"\"\n",
    "    SELECT \n",
    "        artist, song, firstName, lastName\n",
    "    FROM \n",
    "        user_music_session \n",
    "    WHERE \n",
    "        userId = 10 AND sessionId = 182\n",
    "    \"\"\"\n",
    ")\n",
    "\n",
    "for result in results:\n",
    "    print(result)"
   ]
  },
  {
   "cell_type": "markdown",
   "metadata": {},
   "source": [
    "### 3. Every user name (first and last) in the music app history who listened to the song 'All Hands Against His Own' \n",
    "\n",
    "For table `song_listening_activity`, the columns `song` and `userId` where used as a composite partition key because the queries will filter these columns."
   ]
  },
  {
   "cell_type": "code",
   "execution_count": 15,
   "metadata": {
    "editable": true
   },
   "outputs": [
    {
     "data": {
      "text/plain": [
       "<cassandra.cluster.ResultSet at 0x7f8d7a43b820>"
      ]
     },
     "execution_count": 15,
     "metadata": {},
     "output_type": "execute_result"
    }
   ],
   "source": [
    "session.execute(\n",
    "    \"\"\"\n",
    "    CREATE TABLE IF NOT EXISTS song_listening_activity\n",
    "    (\n",
    "        song text, \n",
    "        userId int,\n",
    "        firstName text,\n",
    "        lastName text,\n",
    "        PRIMARY KEY (song, userId)\n",
    "    )\n",
    "    \"\"\"\n",
    ")"
   ]
  },
  {
   "cell_type": "code",
   "execution_count": 16,
   "metadata": {
    "editable": true
   },
   "outputs": [],
   "source": [
    "for _, line in data.iterrows():\n",
    "    session.execute(\n",
    "        \"\"\"\n",
    "        INSERT INTO song_listening_activity(song, userId, firstName, lastName)\n",
    "        VALUES (%s, %s, %s, %s)\n",
    "        \"\"\",\n",
    "        [\n",
    "            line['song'],\n",
    "            line['userId'],\n",
    "            line['firstName'],\n",
    "            line['lastName']\n",
    "        ]\n",
    "    )"
   ]
  },
  {
   "cell_type": "markdown",
   "metadata": {
    "editable": true
   },
   "source": [
    "Verify that the data have been inserted into each table"
   ]
  },
  {
   "cell_type": "code",
   "execution_count": 17,
   "metadata": {
    "editable": true
   },
   "outputs": [
    {
     "name": "stdout",
     "output_type": "stream",
     "text": [
      "Row(firstname='Jacqueline', lastname='Lynch')\n",
      "Row(firstname='Tegan', lastname='Levine')\n",
      "Row(firstname='Sara', lastname='Johnson')\n"
     ]
    }
   ],
   "source": [
    "results = session.execute(\n",
    "    \"\"\"\n",
    "    SELECT \n",
    "        firstName, lastName\n",
    "    FROM \n",
    "        song_listening_activity \n",
    "    WHERE \n",
    "        song = 'All Hands Against His Own'\n",
    "    \"\"\"\n",
    ")\n",
    "\n",
    "for result in results:\n",
    "    print(result)"
   ]
  },
  {
   "cell_type": "markdown",
   "metadata": {
    "editable": true
   },
   "source": [
    "### Drop the tables before closing out the sessions"
   ]
  },
  {
   "cell_type": "code",
   "execution_count": 18,
   "metadata": {
    "editable": true
   },
   "outputs": [
    {
     "data": {
      "text/plain": [
       "<cassandra.cluster.ResultSet at 0x7f8d7c605520>"
      ]
     },
     "execution_count": 18,
     "metadata": {},
     "output_type": "execute_result"
    }
   ],
   "source": [
    "session.execute('DROP TABLE music_heard_in_session')\n",
    "session.execute('DROP TABLE user_music_session')\n",
    "session.execute('DROP TABLE song_listening_activity')"
   ]
  },
  {
   "cell_type": "markdown",
   "metadata": {
    "editable": true
   },
   "source": [
    "### Close the session and cluster connection¶"
   ]
  },
  {
   "cell_type": "code",
   "execution_count": 19,
   "metadata": {
    "editable": true
   },
   "outputs": [],
   "source": [
    "session.shutdown()\n",
    "cluster.shutdown()"
   ]
  },
  {
   "cell_type": "code",
   "execution_count": null,
   "metadata": {
    "editable": true
   },
   "outputs": [],
   "source": []
  }
 ],
 "metadata": {
  "kernelspec": {
   "display_name": "Python 3",
   "language": "python",
   "name": "python3"
  },
  "language_info": {
   "codemirror_mode": {
    "name": "ipython",
    "version": 3
   },
   "file_extension": ".py",
   "mimetype": "text/x-python",
   "name": "python",
   "nbconvert_exporter": "python",
   "pygments_lexer": "ipython3",
   "version": "3.8.5"
  }
 },
 "nbformat": 4,
 "nbformat_minor": 4
}
